{
 "cells": [
  {
   "cell_type": "markdown",
   "metadata": {
    "colab_type": "text",
    "id": "5IKYN_qOcTPG"
   },
   "source": [
    "# Forecasting Project using the BIKE SHARING DATASET"
   ]
  },
  {
   "cell_type": "markdown",
   "metadata": {
    "colab_type": "text",
    "id": "7-7Fb2uhcTPI"
   },
   "source": [
    "## Introduction\n",
    "Welcome Techie!\n",
    "\n",
    "So far you've learned how to explore, clean, and visualize data as well as how to implement supervised and unsupervised machine learning models. Congratulations!\n",
    "\n",
    "In this notebook you are going to combine all these skills and knowledge to build a forecasting project for a bike sharing startup.\n",
    "\n",
    "Start by watching the video below to recall which machine learning steps are important. \n",
    "Have fun!"
   ]
  },
  {
   "cell_type": "code",
   "execution_count": 1,
   "metadata": {
    "colab": {
     "base_uri": "https://localhost:8080/",
     "height": 421
    },
    "colab_type": "code",
    "id": "Kb8axoJxcTPJ",
    "outputId": "bafdf988-2439-4e59-db50-5539d783fceb"
   },
   "outputs": [
    {
     "data": {
      "image/jpeg": "[encoded data removed]",
      "text/html": [
       "\n",
       "        <iframe\n",
       "            width=\"600\"\n",
       "            height=\"400\"\n",
       "            src=\"https://www.youtube.com/embed/nKW8Ndu7Mjw\"\n",
       "            frameborder=\"0\"\n",
       "            allowfullscreen\n",
       "        ></iframe>\n",
       "        "
      ],
      "text/plain": [
       "<IPython.lib.display.YouTubeVideo at 0x10601ef60>"
      ]
     },
     "execution_count": 1,
     "metadata": {},
     "output_type": "execute_result"
    }
   ],
   "source": [
    "from IPython.display import YouTubeVideo\n",
    "YouTubeVideo('nKW8Ndu7Mjw', width=600, height=400)"
   ]
  },
  {
   "cell_type": "markdown",
   "metadata": {},
   "source": [
    "This is a very helpful and good video which summarises steps of a machine learning project in a short and nice way.\n",
    "\n",
    "But do you agree with everything in the video? Can we generalize every machine learning project into these steps? I don't want to critizes the video. I just want you to think critically.\n",
    "\n",
    "It is hard to say \"Do exactly these 7 things during a machine learning project and everything will work\". All problems and also machine learning problems are contextual. Thus, what all problems have in common are not the single steps and solutions but the questions that always come up.\n",
    "\n",
    "As an example. Instead of saying \"I have to randomize the data and split it into training and testing\", ask \"What is the best way to split my data?\". We will see later why this is important.\n",
    "\n",
    "The video also mostly described a classification problem but what if you have a regression problem? Can you use the same steps? We will uncover this question in this notebook since we have a regression problem at hand."
   ]
  },
  {
   "cell_type": "markdown",
   "metadata": {},
   "source": [
    "## Your experience\n",
    "Briefly sketch out what you think should be included into a data science project. \n",
    "Which steps are necessary? What have you learnt so far during the online courses?  \n",
    "You can write your ideas here into the cell below or grab pen and paper (as I often do) and write down each step which you would add to a data science project."
   ]
  },
  {
   "cell_type": "markdown",
   "metadata": {},
   "source": []
  },
  {
   "cell_type": "markdown",
   "metadata": {
    "colab_type": "text",
    "id": "AUrnQfPPcTPQ"
   },
   "source": [
    "## Learning Goals\n",
    "\n",
    "It is time for you to implement your <b><font color='blue'>frist machine learning (ML) models</font></b> from skretch and practice what you have learnt so far. Additionally, the goal of this notebook is to introduce you to a <b><font color='blue'>Data Science Hypothesis Process</font></b> which you can use later for your own projects. This process will allow you to make data science projects repeatable by establishing a machine learning strategy instead of a machine learning snapshot.\n",
    "\n",
    "The notebook is structured in such a way that you will go through a whole data science project. From a short data <b><font color='blue'>exploration</font></b> to data <b><font color='blue'>cleaning</font></b> and <b><font color='blue'>preparation</font></b> to <b><font color='blue'>formulating hypotheses** and **building ML models</font></b> which you then evaluate and refine.\n",
    "\n",
    "After finishing this notebook you should feel more confident starting data science projects. You will know which questions/steps are important and relevant during a data science project and how to train and evaluate ML models. With this practice it will be easier for you to work with your team and solve your next data science problem.\n",
    "\n",
    "Everything you will need to do will be inside of this notebook, and I've marked which cells you will need to edit by saying <b><font color='red'>\"TODO! COMPLETE THIS SECTION!\"</font></b>. Inside the cells you'll find `...`. These are the places where you have to add your code. "
   ]
  },
  {
   "cell_type": "markdown",
   "metadata": {
    "colab_type": "text",
    "id": "NCSSHIMWcTPS"
   },
   "source": [
    "## Practice with Bike Sharing dataset\n",
    "\n",
    "Before you start make sure you read the README pdf file inside the unzipped folder.\n",
    "\n",
    "Let's build a story and client problem around the dataset so that it feels more realistic and gives us a sense of solving a real world problem.\n",
    "\n",
    "A Münster-based startup called LeezenShare is a bike sharing startup with five stores distributed around the city. Their bike sharing service is on the rise but recently they faced a wave of complaints from customers and employees. \n",
    "\n",
    "Most of the customers have two issues. Frist, they are reporting the stores at Hafenstraße and Königsweg don't have enough available bikes on the spot. Second, at store Weseler Str., where a lot of bikes are available they have to wait a very long time before an employee can help them. Employees on the other hand feel overwhelmed with the work at store Weseler Straße and are very stressed because of the huge number of customers in the stores.\n",
    "\n",
    "So the startup LeezenShare approached you - the data scientist - for help. They want to improve their customer and employee experience at their stores by making better decisions on how to distribute bikes across the stores. They want a forecasting system from you so that they know when and where bikes are needed. For the start they give you only the data of one store. You have to prove to them that you can build a forecasting system and help them at that one store.\n",
    "\n",
    "Challenge accepted.\n",
    "\n",
    "### import libraries\n",
    "First import some libraries we need for some data exploration."
   ]
  },
  {
   "cell_type": "code",
   "execution_count": null,
   "metadata": {
    "colab": {},
    "colab_type": "code",
    "id": "3QOAscN3cTPT"
   },
   "outputs": [],
   "source": [
    "import warnings\n",
    "warnings.filterwarnings('ignore')\n",
    "\n",
    "import pandas as pd\n",
    "import matplotlib.pyplot as plt\n",
    "import seaborn as sns\n",
    "import numpy as np"
   ]
  },
  {
   "cell_type": "markdown",
   "metadata": {
    "colab_type": "text",
    "id": "ySw-IK3tcTPW"
   },
   "source": [
    "### first impression and information about the dataset\n",
    "\n",
    "First, load and explore the data before diving into the machine learning models. You have to get a feeling what kind of data your are dealing with."
   ]
  },
  {
   "cell_type": "markdown",
   "metadata": {
    "colab_type": "text",
    "id": "3tK0g33UcTPX"
   },
   "source": [
    "Import bike sharing dataset by loading the `bikesharing.csv` file.\n",
    "\n",
    "<h4><font color='red'>TODO! COMPLETE THIS SECTION!</font></h4>"
   ]
  },
  {
   "cell_type": "code",
   "execution_count": null,
   "metadata": {
    "colab": {},
    "colab_type": "code",
    "id": "s-i9uzplcTPX"
   },
   "outputs": [],
   "source": [
    "# Import the csv file using pandas\n",
    "df = pd..."
   ]
  },
  {
   "cell_type": "markdown",
   "metadata": {
    "colab_type": "text",
    "id": "3tK0g33UcTPX"
   },
   "source": [
    "Check how many rows and columns the dataset has and display the first 5 rows.\n",
    "\n",
    "<h4><font color='red'>TODO! COMPLETE THIS SECTION!</font></h4>"
   ]
  },
  {
   "cell_type": "code",
   "execution_count": null,
   "metadata": {},
   "outputs": [],
   "source": [
    "# output the shape of the data set\n",
    "df..."
   ]
  },
  {
   "cell_type": "markdown",
   "metadata": {},
   "source": [
    "<h4><font color='red'>TODO! COMPLETE THIS SECTION!</font></h4>"
   ]
  },
  {
   "cell_type": "code",
   "execution_count": null,
   "metadata": {},
   "outputs": [],
   "source": [
    "# output the first five rows of the data set\n",
    "df..."
   ]
  },
  {
   "cell_type": "markdown",
   "metadata": {},
   "source": [
    "Now you see which columns and information are available to you. Below you can find a more detailed description of the columns.\n",
    "\n",
    "**Column discribtion**\n",
    "\n",
    "- datetime: date + hourly time\n",
    "- season: 1 = spring, 2 = summer, 3 = fall, 4 = winter\n",
    "- holiday: whether the day is considered a holiday \n",
    "  - 0: no holiday \n",
    "  - 1: holiday\n",
    "- workingday\n",
    "  - 0: no workingday\n",
    "  - 1: workingday\n",
    "- weather -\n",
    "  - 1: Clear, Few clouds, Partly cloudy, Partly cloudy\n",
    "  - 2: Mist + Cloudy, Mist + Broken clouds, Mist + Few clouds, Mist\n",
    "  - 3: Light Snow, Light Rain + Thunderstorm + Scattered clouds, Light Rain + Scattered clouds\n",
    "  - 4: Heavy Rain + Ice Pallets + Thunderstorm + Mist, Snow + Fog\n",
    "- temp: temperature in Celsius\n",
    "- atemp: \"feels like\" temperature in Celsius\n",
    "- humidity: relative humidity\n",
    "- windspeed: wind speed\n",
    "- casual: number of non-registered user rentals initiated\n",
    "- registered: number of registered user rentals initiated\n",
    "- count: number of total rentals (Dependent Variable)"
   ]
  },
  {
   "cell_type": "markdown",
   "metadata": {},
   "source": [
    "We have to change a small thing before you do further explorations. The \"count\" column is the target column. But \"count\" as column name is a bad choice since a pandas method is also called .count(). Thus let's rename the count column to \"target\"."
   ]
  },
  {
   "cell_type": "code",
   "execution_count": null,
   "metadata": {},
   "outputs": [],
   "source": [
    "df.rename(columns={'count': 'target'}, inplace=True)\n",
    "df.head()"
   ]
  },
  {
   "cell_type": "markdown",
   "metadata": {
    "colab_type": "text",
    "id": "3tK0g33UcTPX"
   },
   "source": [
    "Now that we have changed the column name, let's continue with the data exploration. Check the column types. Does the datetime column really contain datetime type of data?\n",
    "\n",
    "<h4><font color='red'>TODO! COMPLETE THIS SECTION!</font></h4>"
   ]
  },
  {
   "cell_type": "code",
   "execution_count": null,
   "metadata": {},
   "outputs": [],
   "source": [
    "# output the column types of the data set\n",
    "df..."
   ]
  },
  {
   "cell_type": "markdown",
   "metadata": {},
   "source": [
    "The columns are mostly of type integer or float. But the datetime column is of type object even though it is supposed to be of type datetime. Thus change the datetime column to datetime type.\n",
    "\n",
    "<h4><font color='red'>TODO! COMPLETE THIS SECTION!</font></h4>"
   ]
  },
  {
   "cell_type": "code",
   "execution_count": null,
   "metadata": {},
   "outputs": [],
   "source": [
    "# use a pandas method to change the type of the datetime column to datetime\n",
    "df.datetime = pd..."
   ]
  },
  {
   "cell_type": "markdown",
   "metadata": {},
   "source": [
    "Let's have a look again, if the datetime column has the right type now."
   ]
  },
  {
   "cell_type": "code",
   "execution_count": null,
   "metadata": {},
   "outputs": [],
   "source": [
    "df.info()"
   ]
  },
  {
   "cell_type": "markdown",
   "metadata": {},
   "source": [
    "Perfect, now the datetime column has the type datetime64[ns].\n",
    "\n",
    "Since we have a unique timeseries, set the datetime column as index. \n",
    "\n",
    "<h4><font color='red'>TODO! COMPLETE THIS SECTION!</font></h4>"
   ]
  },
  {
   "cell_type": "code",
   "execution_count": null,
   "metadata": {},
   "outputs": [],
   "source": [
    "# set the datetime column as index. Don't forget to use the inplace variable\n",
    "df...\n",
    "\n",
    "# this will just test if you set the index correct\n",
    "message = (\n",
    "    \"You have to set the index inplace. The \"\n",
    "    \"datetime columnn should only exist as \"\n",
    "    \"an index and not as a column anymore.\")\n",
    "assert df.shape[1] == 11, message"
   ]
  },
  {
   "cell_type": "markdown",
   "metadata": {},
   "source": [
    "Check how the data set looks with datetime as index."
   ]
  },
  {
   "cell_type": "code",
   "execution_count": null,
   "metadata": {},
   "outputs": [],
   "source": [
    "df.head()"
   ]
  },
  {
   "cell_type": "markdown",
   "metadata": {
    "colab_type": "text",
    "id": "3tK0g33UcTPX"
   },
   "source": [
    "Now find out what the date range of the data set is.\n",
    "\n",
    "<h4><font color='red'>TODO! COMPLETE THIS SECTION!</font></h4>"
   ]
  },
  {
   "cell_type": "code",
   "execution_count": null,
   "metadata": {},
   "outputs": [],
   "source": [
    "# output the minimum datetime\n",
    "df..."
   ]
  },
  {
   "cell_type": "markdown",
   "metadata": {},
   "source": [
    "<h4><font color='red'>TODO! COMPLETE THIS SECTION!</font></h4>"
   ]
  },
  {
   "cell_type": "code",
   "execution_count": null,
   "metadata": {},
   "outputs": [],
   "source": [
    "# output the maximum datetime\n",
    "df..."
   ]
  },
  {
   "cell_type": "markdown",
   "metadata": {
    "colab_type": "text",
    "id": "3tK0g33UcTPX"
   },
   "source": [
    "As you found out, we have approximately two years of data.\n",
    "\n",
    "But do we have information on every single day and every single hour? This is very important for the machine learning models which you are going to implement. If no or only a few values are missing you can utilize the time series information perfectly by using models built explicitly for time series. But if you find out that the data contains a lot of missing values, you should select different machine learning models. Thus check if the data contains missing values in the form of nan values. \n",
    "\n",
    "<h4><font color='red'>TODO! COMPLETE THIS SECTION!</font></h4>"
   ]
  },
  {
   "cell_type": "code",
   "execution_count": null,
   "metadata": {},
   "outputs": [],
   "source": [
    "# how many null/nan values do the columns have\n",
    "df..."
   ]
  },
  {
   "cell_type": "markdown",
   "metadata": {
    "colab_type": "text",
    "id": "3tK0g33UcTPX"
   },
   "source": [
    "Nice. There are no null/nan values. But before we celebrate, let's check if the data set contains every datetime in the date range you found.\n",
    "\n",
    "<h4><font color='red'>TODO! COMPLETE THIS SECTION!</font></h4>"
   ]
  },
  {
   "cell_type": "code",
   "execution_count": null,
   "metadata": {},
   "outputs": [],
   "source": [
    "# create a list of datetimes starting from the minimum date of the dataset\n",
    "# to the maximum date of the data set. \n",
    "idx = pd...\n",
    "assert len(idx) == 17256, \"Did you set the frequency to hours?\"\n",
    "\n",
    "# reindex the data set and fill missing values with nan\n",
    "df = df.reindex(idx, fill_value=pd.np.nan)\n",
    "\n",
    "# get a list of datetimes where the target is nan\n",
    "missing = df...\n",
    "message = (\n",
    "    \"Something went wrong. Check if you \"\n",
    "    \"reindexed the data set correctly or if you \"\n",
    "    \"selected the the nan target values correctly.\")\n",
    "assert len(missing) == 6370, message\n",
    "missing"
   ]
  },
  {
   "cell_type": "markdown",
   "metadata": {},
   "source": [
    "Ok we don't have the information for every single day and every single hour. How many percent of the data is missing?\n",
    "\n",
    "<h4><font color='red'>TODO! COMPLETE THIS SECTION!</font></h4>"
   ]
  },
  {
   "cell_type": "code",
   "execution_count": null,
   "metadata": {},
   "outputs": [],
   "source": [
    "len(...) / len(...) * 100"
   ]
  },
  {
   "cell_type": "markdown",
   "metadata": {
    "colab_type": "text",
    "id": "3tK0g33UcTPX"
   },
   "source": [
    "Approximately 37%. That's a lot of missing data. Let's find out how many days are affected and how much data is missing on each day."
   ]
  },
  {
   "cell_type": "code",
   "execution_count": null,
   "metadata": {},
   "outputs": [],
   "source": [
    "from collections import Counter\n",
    "\n",
    "missing_dates = [x.date() for x in missing]\n",
    "count = Counter(missing_dates)\n",
    "missing_dates = pd.DataFrame(list(count.items()), columns=['date', 'missing_count'])\n",
    "print('The dataset has missing values at ' + str(len(missing_dates)) + ' different days.')\n",
    "missing_dates.hist(figsize=(18, 6), bins=50)"
   ]
  },
  {
   "cell_type": "markdown",
   "metadata": {},
   "source": [
    "The data is missing on 305 days and most of the days are missing completely as you can see in the histogram plot (the largest bin is at 24)."
   ]
  },
  {
   "cell_type": "markdown",
   "metadata": {
    "colab_type": "text",
    "id": "3tK0g33UcTPX"
   },
   "source": [
    "Plot the time series target data to see more clearly when data is missing. Is it only missing at the start of the time series or at the end? Or is the data missing periodically?\n",
    "\n",
    "<h4><font color='red'>TODO! COMPLETE THIS SECTION!</font></h4>"
   ]
  },
  {
   "cell_type": "code",
   "execution_count": null,
   "metadata": {},
   "outputs": [],
   "source": [
    "# plot the target column\n",
    "df['target']..."
   ]
  },
  {
   "cell_type": "markdown",
   "metadata": {},
   "source": [
    "The data is missing frequently and in large intervalls. This is a big problem. Typically one can use time series models, like SARIMA or Prophet, for revenue forecasting to utilize the time dependency. But with these large gaps of missing data it is hard to use these models in a meaningful way.\n",
    "\n",
    "But it is great to find this out so early. This eliminates certain types of models which means we have to rely on other models. And we have to consider this while engineering the features for our models (features like target of one week before will be difficult to engineer since we have a lot of missing data).\n",
    "\n",
    "For machine leanring models it is better to use normally distributed data. Skewed data could cause problems for the machine learning model and therefore bad forecasting performance.\n",
    "\n",
    "Check if the data is skewed by plotting a histogramm for the target.\n",
    "\n",
    "<h4><font color='red'>TODO! COMPLETE THIS SECTION!</font></h4>"
   ]
  },
  {
   "cell_type": "code",
   "execution_count": null,
   "metadata": {},
   "outputs": [],
   "source": [
    "# make a histogram plot of the target column\n",
    "df['target']..."
   ]
  },
  {
   "cell_type": "markdown",
   "metadata": {},
   "source": [
    "Ok, the data looks skewed. This means we have to clean the data and fix the skewness.\n",
    "\n",
    "All these steps you are doing are important for building a machine learning model. Thus I hope that you aren't frustrated that we haven't already started building the model. But the model part isn't that complicated and all this ground work you did until now will be included into the machine learning project you are going to build.\n",
    "\n",
    "The next step will be our last task. After fixing and scaling the skewed data, you will start with the Data Science Hypothesis Process."
   ]
  },
  {
   "cell_type": "markdown",
   "metadata": {},
   "source": [
    "### cleaning data\n",
    "\n",
    "There are many different ways how you can fix skewed data. You can google \"python fixing skewed data\" and you will find different articles with methods and explanations. Here we will use the log-transform to make our data less skewed. \n",
    "\n",
    "<h4><font color='red'>TODO! COMPLETE THIS SECTION!</font></h4>"
   ]
  },
  {
   "cell_type": "code",
   "execution_count": null,
   "metadata": {},
   "outputs": [],
   "source": [
    "# use the log method from numpy to transfrom the target\n",
    "df['norm_target'] = np...\n",
    "df.norm_target.hist(figsize=(18, 6), bins=30)"
   ]
  },
  {
   "cell_type": "markdown",
   "metadata": {},
   "source": [
    "Great. The data looks more like a normal distribution now. It is still skewed but ok, this is the best we can do for now. If you want, feel free to google other transformations and try to fix the skewed data even more.\n",
    "\n",
    "Besides transforming the data, another important step is to scale the data. Do you remember why it is important from your online courses?\n",
    "\n",
    "In the next step you will use the StandardScaler method from sklearn to scale the target. You will only scale the target value for now to see how it effects the values. Later during the machine learning models you will have to scale also other numerical feature columns so that the numerical values are all in the same range and your ML model doesn't favor certain features.\n",
    "\n",
    "<h4><font color='red'>TODO! COMPLETE THIS SECTION!</font></h4>"
   ]
  },
  {
   "cell_type": "code",
   "execution_count": null,
   "metadata": {},
   "outputs": [],
   "source": [
    "from sklearn.preprocessing import StandardScaler\n",
    "\n",
    "# reload the data, because the StandardScaler cannot \n",
    "# handle nan values\n",
    "df = pd.read_csv('bikesharing.csv')\n",
    "df.rename(columns={'count': 'target'}, inplace=True)\n",
    "\n",
    "# create a StandardScaler object\n",
    "sc = ...\n",
    "df['norm_target'] = np.log(df['target'])\n",
    "# fit transform the norm_target column\n",
    "df['norm_target'] = sc...\n",
    "df.norm_target.hist(figsize=(18, 6), bins=30)"
   ]
  },
  {
   "cell_type": "markdown",
   "metadata": {},
   "source": [
    "As you can see in the histogram plot the distribution didn't change at all. The scaling only shifted the distribution to values mostly around -1 and 1.\n",
    "\n",
    "Now it is time for the Data Science Hypothesis Process and for implementing machine learning models."
   ]
  },
  {
   "cell_type": "markdown",
   "metadata": {},
   "source": [
    "### Data Science Hypothesis Process - baseline model\n",
    "Now we are going to start our data science hypothesis process. The idea of this process is to have a repeatable project process which you can use over and over again. The first step in this process is to **formulate a hypothesis**. After that, it is time to **implement and test your hypothesis**. For this you have to engineer new features, implement a new model or whatever your hypothesis requires. After implementing everthing you have to **evaluate the hypothesis** and validate it or disprove it. Depending on the outcome you **refine your hypothesis or define a new one** and the process starts again. The idea of this process is to make fast iterations of your machine learning project, test new ideas and improve the model step by step.\n",
    "\n",
    "To make use of this process, you need to have a baseline model to which you can compare later hypotheses and results. So let's build the baseline model.\n",
    "\n",
    "All the steps you did until now are very important for your baseline model and later ML project steps. To make your machine leanring project repeatable and flexible you will first implement some of the steps above and new ones into functions so that you can use the functions over and over again. The different steps will include:\n",
    "\n",
    "- loading data\n",
    "- engineering features\n",
    "- fixing skewed data\n",
    "- generate dummy variables\n",
    "- split feature and target\n",
    "- split the data into training and testing sets\n",
    "- scale target\n",
    "- make the prediction and save it\n",
    "- evaluate predictions\n",
    "\n",
    "It is very important that you implement these steps into functions because we will use them in all hypothesis steps.\n",
    "\n",
    "In the following you are also going to build your first baseline model in the **make predictions phase** with first simple features which you engineer in the  **engineering feature step**.\n",
    "\n",
    "This was a lot of text, but I hope I could give you an idea on how the hypothesis process works and why it is important to build the first functions. Enough reading. Let's start."
   ]
  },
  {
   "cell_type": "markdown",
   "metadata": {},
   "source": [
    "#### Load data"
   ]
  },
  {
   "cell_type": "markdown",
   "metadata": {},
   "source": [
    "Our first function will load the data and make first preparations. Implement the function in the following cell and run the function in the second cell below to see if it works. (Feel free to just scroll to the top and copy paste the things you already implemented). The asserts in the second cell are only to check if everything is implemented correctly.\n",
    "\n",
    "From now on the frist cell is used to implement functions and in the second cell you will use these functions to build your machine learning project step by step.\n",
    "\n",
    "Feel free to also create your own cells to test ideas before you implement them into the functions. Experiment a bit. But don't forget to delete those experiment cells again.\n",
    "\n",
    "<h4><font color='red'>TODO! COMPLETE THIS SECTION!</font></h4>"
   ]
  },
  {
   "cell_type": "code",
   "execution_count": null,
   "metadata": {},
   "outputs": [],
   "source": [
    "def load_and_prepare_data():\n",
    "    # load the bikesharing csv\n",
    "    ts = pd...\n",
    "\n",
    "    # rename count column to target\n",
    "    ts...\n",
    "\n",
    "    # change the type of the datetime column to datetime\n",
    "    ts['datetime'] = pd...\n",
    "\n",
    "    # set the datetime column as index\n",
    "    ts...\n",
    "    return ts"
   ]
  },
  {
   "cell_type": "code",
   "execution_count": null,
   "metadata": {},
   "outputs": [],
   "source": [
    "# load and prepare data\n",
    "df = load_and_prepare_data()\n",
    "\n",
    "assert 'target' in df.columns, \"The target is missing.\"\n",
    "assert 'count' not in df.columns, \"Count is still in dataframe.\"\n",
    "assert type(df.index) == pd.DatetimeIndex, \"The datetime is not the index or not of type datetime\"\n",
    "\n",
    "df.head()"
   ]
  },
  {
   "cell_type": "markdown",
   "metadata": {},
   "source": [
    "Nice. You implemented the first function. Now it's time to engineer some features for your ML model."
   ]
  },
  {
   "cell_type": "markdown",
   "metadata": {},
   "source": [
    "#### engineer  datatime features"
   ]
  },
  {
   "cell_type": "markdown",
   "metadata": {},
   "source": [
    "Engineer the first features from the datetime information. You will focus only on the datetime features for now to build your first base model. Later you will formulate hypotheses to check if the other features can improve your model. \n",
    "\n",
    "In the second cell we will use the load_and_prepare_data funciton you implemented above and add the new functions to see if everything runs smoothly.\n",
    "\n",
    "<h4><font color='red'>TODO! COMPLETE THIS SECTION!</font></h4>"
   ]
  },
  {
   "cell_type": "code",
   "execution_count": null,
   "metadata": {},
   "outputs": [],
   "source": [
    "def add_hours(ts):\n",
    "    # get the hour information from the datetime index\n",
    "    ts['hour'] = ts...\n",
    "    return ts\n",
    "\n",
    "def add_isodate(ts):\n",
    "    # get the year, week and weekday information from the datetime index\n",
    "    ts[['year', 'week', 'weekday']] = pd.DataFrame(\n",
    "        ts.index.map(lambda x: x.isocalendar()).tolist(), index=ts.index)\n",
    "    return ts\n",
    "\n",
    "def add_month(ts):\n",
    "    # get the month information from the datetime index\n",
    "    ts['month'] = ts...\n",
    "    return ts"
   ]
  },
  {
   "cell_type": "code",
   "execution_count": null,
   "metadata": {},
   "outputs": [],
   "source": [
    "# load and prepare data\n",
    "df = load_and_prepare_data()\n",
    "\n",
    "# drop unnecessary columns\n",
    "cols = ['season', 'holiday', 'workingday', \n",
    "        'weather', 'temp', 'atemp', 'humidity', \n",
    "        'windspeed', 'casual', 'registered']\n",
    "df.drop(columns=cols, inplace=True)\n",
    "\n",
    "# feature engineering\n",
    "df = add_hours(df)\n",
    "df = add_isodate(df)\n",
    "df = add_month(df)\n",
    "\n",
    "assert 'target' in df.columns, \"The target columns is missing.\"\n",
    "for col in ['hour', 'year', 'week', 'month', 'weekday']:\n",
    "    assert col in df.columns, \"The %s feature is missing.\" % col\n",
    "assert len(df.columns) == 6, \"You have to many columns in your dataframe.\"\n",
    "\n",
    "df.head()"
   ]
  },
  {
   "cell_type": "markdown",
   "metadata": {},
   "source": [
    "Great. Now that you have engineered some features, let's move on to fixing the skewed data."
   ]
  },
  {
   "cell_type": "markdown",
   "metadata": {},
   "source": [
    "#### fix skewed data"
   ]
  },
  {
   "cell_type": "markdown",
   "metadata": {},
   "source": [
    "Earlier in the notebook we saw that the data is a bit skewed and you used the log-tansform to fix the skewed data. Now it is time to build this transformation into a function and add it as a next step into your project after loading the data and engineering features.\n",
    "\n",
    "<h4><font color='red'>TODO! COMPLETE THIS SECTION!</font></h4>"
   ]
  },
  {
   "cell_type": "code",
   "execution_count": null,
   "metadata": {},
   "outputs": [],
   "source": [
    "def fix_skewed_data(ts):\n",
    "    # use the numpy log transfrom method to transform the target data\n",
    "    ts['target'] = np...\n",
    "    return ts"
   ]
  },
  {
   "cell_type": "code",
   "execution_count": null,
   "metadata": {
    "scrolled": true
   },
   "outputs": [],
   "source": [
    "# load and prepare data\n",
    "df = load_and_prepare_data()\n",
    "\n",
    "# drop columns\n",
    "cols = ['season', 'holiday', 'workingday', \n",
    "        'weather', 'temp', 'atemp', 'humidity', \n",
    "        'windspeed', 'casual', 'registered']\n",
    "df.drop(columns=cols, inplace=True)\n",
    "\n",
    "# feature engineering\n",
    "df = add_hours(df)\n",
    "df = add_isodate(df)\n",
    "df = add_month(df)\n",
    "\n",
    "# transfrom to fix skewed data\n",
    "df = fix_skewed_data(df)\n",
    "\n",
    "assert len(df.columns) == 6, \"You have to many columns. Did you create a new target column?\"\n",
    "\n",
    "df.head()"
   ]
  },
  {
   "cell_type": "markdown",
   "metadata": {},
   "source": [
    "Now you have a nice process where you first load the data, engineer some features and then fix the skewed data."
   ]
  },
  {
   "cell_type": "markdown",
   "metadata": {},
   "source": [
    "#### generate dummy variables"
   ]
  },
  {
   "cell_type": "markdown",
   "metadata": {},
   "source": [
    "If you have categorical features, it is a good idea to create dummy variables for them. (If you don't remember what dummy variables are feel free to google it.)\n",
    "\n",
    "Now one can argue if datetime features like for example months are really categorical features, since they contain time dependent information. On the other hand, why should the model value December (12) more than January (1). It also depends on what model you are using. Are you using a regression model or a tree-based model.\n",
    "\n",
    "The only way to find out if the normal features or the dummified features are the better choice is to test it. Therefore build a function that creates dummy variables out of feature columns.\n",
    "\n",
    "Again, feel free to also create your own cells to test ideas before you implement them into the functions. Experiment a bit. But don't forget to delete those cells again.\n",
    "\n",
    "<h4><font color='red'>TODO! COMPLETE THIS SECTION!</font></h4>"
   ]
  },
  {
   "cell_type": "code",
   "execution_count": null,
   "metadata": {},
   "outputs": [],
   "source": [
    "def generate_dummies(ts, cols, trap=False):\n",
    "    # iterate over each column which you want to dummify\n",
    "    for col ...:\n",
    "        # create dummy variables out of the column\n",
    "        dummies = pd...\n",
    "        # if trap is true we will drop one of the \n",
    "        # created dummies to avoid the dummy trap problem\n",
    "        if trap:\n",
    "            ts = ts.join(dummies.iloc[:, :-1])\n",
    "        else:\n",
    "            ts = ts.join(dummies)\n",
    "    # drop the normal columns since you now have dummy variables\n",
    "    ts...\n",
    "    return ts"
   ]
  },
  {
   "cell_type": "code",
   "execution_count": null,
   "metadata": {},
   "outputs": [],
   "source": [
    "# load and prepare data\n",
    "df = load_and_prepare_data()\n",
    "\n",
    "# drop columns\n",
    "cols = ['season', 'holiday', 'workingday', \n",
    "        'weather', 'temp', 'atemp', 'humidity', \n",
    "        'windspeed', 'casual', 'registered']\n",
    "df.drop(columns=cols, inplace=True)\n",
    "\n",
    "# feature engineering\n",
    "df = add_hours(df)\n",
    "df = add_isodate(df)\n",
    "df = add_month(df)\n",
    "\n",
    "# transfrom to fix skewed data\n",
    "df = fix_skewed_data(df)\n",
    "\n",
    "# generate dummies\n",
    "cols = ['hour', 'year', 'week', 'weekday', 'month']\n",
    "df = generate_dummies(df, cols)\n",
    "\n",
    "# assers will try to test if you implemented everything correctly\n",
    "for col in cols:\n",
    "    message = (\n",
    "        \"You have to drop the %s column because you created \"\n",
    "        \"dummies now.\" % col)\n",
    "    assert col not in df.columns, message\n",
    "assert len(df.columns) == 93, \"Either you have too many columns or you have too few.\"\n",
    "\n",
    "df.head()"
   ]
  },
  {
   "cell_type": "markdown",
   "metadata": {},
   "source": [
    "Now that you have successfully created dummy features we are closer to our machine learning model. The next steps are to split the data set into features and targets and after that to split the data again into training and testing sets. "
   ]
  },
  {
   "cell_type": "markdown",
   "metadata": {},
   "source": [
    "#### split features and target"
   ]
  },
  {
   "cell_type": "markdown",
   "metadata": {},
   "source": [
    "Split the dataframe into target and features dataframes so that you can train your machine learning model later.\n",
    "\n",
    "<h4><font color='red'>TODO! COMPLETE THIS SECTION!</font></h4>"
   ]
  },
  {
   "cell_type": "code",
   "execution_count": null,
   "metadata": {},
   "outputs": [],
   "source": [
    "# load and prepare data\n",
    "df = load_and_prepare_data()\n",
    "\n",
    "# drop columns\n",
    "cols = ['season', 'holiday', 'workingday', \n",
    "        'weather', 'temp', 'atemp', 'humidity', \n",
    "        'windspeed', 'casual', 'registered']\n",
    "df.drop(columns=cols, inplace=True)\n",
    "\n",
    "# feature engineering\n",
    "df = add_hours(df)\n",
    "df = add_isodate(df)\n",
    "df = add_month(df)\n",
    "\n",
    "# transfrom to fix skewed data\n",
    "df['target'] = np.log(df.target)\n",
    "\n",
    "# generate dummies\n",
    "cols = ['hour', 'year', 'week', 'weekday', 'month']\n",
    "df = generate_dummies(df, cols)\n",
    "\n",
    "# split target and feature\n",
    "# store the features in X and the target in y\n",
    "# (select feature columns by excluding the target column\n",
    "# instead of typing every feature column name manually)\n",
    "X = df.loc[...\n",
    "y = df.loc[...\n",
    "\n",
    "# asserts are only here to test\n",
    "assert type(X) == pd.DataFrame, \"X should be a DataFrame.\"\n",
    "assert type(y) == pd.DataFrame, \"y should be a DataFrame.\"\n",
    "assert 'target' not in X.columns, \"The target columns shouldn't be in the feature dataframe X.\"\n",
    "assert len(y.columns) == 1, \"The target dataframe y should only include the target column.\"\n",
    "\n",
    "display(X.head())\n",
    "display(y.head())"
   ]
  },
  {
   "cell_type": "markdown",
   "metadata": {},
   "source": [
    "#### split the data into training and testing sets"
   ]
  },
  {
   "cell_type": "markdown",
   "metadata": {},
   "source": [
    "After splitting the dataframe into target and features, the next step is to split your datasets into training and testing.\n",
    "\n",
    "In the video at the beginning of this notebook, the instructor told you to randomize the data before splitting it into training and tests. This is correct for a lot of problems like classification problems or some regression problems but not for forecasting problems. Randomizing your data would break the time dependent structure and it could be that you have future information in your training set which your model shouldn't see.\n",
    "\n",
    "Therefore you will pick a starting date (2012-08-01) and an end date (7 days). The starting and end date are the intervalls for the testing dataset. The data before the start date will be the training dataset.\n",
    "\n",
    "<h4><font color='red'>TODO! COMPLETE THIS SECTION!</font></h4>"
   ]
  },
  {
   "cell_type": "code",
   "execution_count": null,
   "metadata": {},
   "outputs": [],
   "source": [
    "# load and prepare data\n",
    "df = load_and_prepare_data()\n",
    "\n",
    "# drop columns\n",
    "cols = ['season', 'holiday', 'workingday', \n",
    "        'weather', 'temp', 'atemp', 'humidity', \n",
    "        'windspeed', 'casual', 'registered']\n",
    "df.drop(columns=cols, inplace=True)\n",
    "\n",
    "# feature engineering\n",
    "df = add_hours(df)\n",
    "df = add_isodate(df)\n",
    "df = add_month(df)\n",
    "\n",
    "# transfrom to fix skewed data\n",
    "df['target'] = np.log(df.target)\n",
    "\n",
    "# generate dummies\n",
    "cols = ['hour', 'year', 'week', 'weekday', 'month']\n",
    "df = generate_dummies(df, cols)\n",
    "\n",
    "# split target and feature\n",
    "X = df.loc[:, df.columns != 'target']\n",
    "y = df.loc[:, ['target']]\n",
    "\n",
    "# save predictions in dataframe\n",
    "preds = pd.DataFrame()\n",
    "\n",
    "# pick the date interval for train and test\n",
    "# the start date should be of type timestamp\n",
    "# and should be the 2012-08-01 for now\n",
    "start = pd...\n",
    "# add 7 days to the start date using pandas Timedelta\n",
    "end = start + pd...\n",
    "\n",
    "# test a few things\n",
    "assert type(start) == pd.Timestamp, \"start is not of type timestamp\"\n",
    "assert type(end) == pd.Timestamp, \"end is not of type timestamp\"\n",
    "\n",
    "# select train and test data\n",
    "# select the train and test features\n",
    "X_train = X[X.index < start]\n",
    "X_test = X[(X.index >= start) & (X.index <= end)]\n",
    "\n",
    "# select the train and test targets\n",
    "y_train = y[...\n",
    "y_test = y[..."
   ]
  },
  {
   "cell_type": "markdown",
   "metadata": {},
   "source": [
    "Now display your dataframes. "
   ]
  },
  {
   "cell_type": "code",
   "execution_count": null,
   "metadata": {},
   "outputs": [],
   "source": [
    "display(X_train.head())\n",
    "display(X_test.head())"
   ]
  },
  {
   "cell_type": "code",
   "execution_count": null,
   "metadata": {},
   "outputs": [],
   "source": [
    "display(y_train.head())\n",
    "display(y_test.head())"
   ]
  },
  {
   "cell_type": "markdown",
   "metadata": {},
   "source": [
    "You are so close to implementing the machine learning model. The last step left which seperates you from your machine learning model is to scale the target data."
   ]
  },
  {
   "cell_type": "markdown",
   "metadata": {},
   "source": [
    "#### scale the target"
   ]
  },
  {
   "cell_type": "markdown",
   "metadata": {},
   "source": [
    "It is always a good idea to scale all the numerical columns in your dataset so that your model doesn't favor some columns over others because they have larger values.\n",
    "\n",
    "The only numerical column we have until now is the target column since we are dropping other columns like temperature for now and have only dummy features for our datetime features.\n",
    "\n",
    "Scale the target values using the StandardScaler method from sklearn. \n",
    "\n",
    "While scaling, it is important that you first fit your scaler on the training data. After you fitted the scaler on the training data use the same scaler to transform your test data. This is important because during real life forecasting you wouldn't know what your test target values are because the test target values are supposed to be future values. \n",
    "\n",
    "<h4><font color='red'>TODO! COMPLETE THIS SECTION!</font></h4>"
   ]
  },
  {
   "cell_type": "code",
   "execution_count": null,
   "metadata": {},
   "outputs": [],
   "source": [
    "from sklearn.preprocessing import StandardScaler\n",
    "\n",
    "def scale_targets(y_train, y_test):\n",
    "    sc = StandardScaler()\n",
    "    # fit and transfrom the target values of your train data\n",
    "    y_train['target_sc'] = sc... \n",
    "    \n",
    "    # transfrom the targeet values of your test data\n",
    "    # and save it as target_sc\n",
    "    y_test['target_sc'] = sc... \n",
    "    \n",
    "    # output the scaler and both training and testing datasets\n",
    "    # you will need the scaler later to retransfrom your predictions \n",
    "    # back to real target values\n",
    "    return sc, y_train, y_test"
   ]
  },
  {
   "cell_type": "code",
   "execution_count": null,
   "metadata": {},
   "outputs": [],
   "source": [
    "# load and prepare data\n",
    "df = load_and_prepare_data()\n",
    "\n",
    "# drop columns\n",
    "cols = ['season', 'holiday', 'workingday', \n",
    "        'weather', 'temp', 'atemp', 'humidity', \n",
    "        'windspeed', 'casual', 'registered']\n",
    "df.drop(columns=cols, inplace=True)\n",
    "\n",
    "# feature engineering\n",
    "df = add_hours(df)\n",
    "df = add_isodate(df)\n",
    "df = add_month(df)\n",
    "\n",
    "# transfrom to fix skewed data\n",
    "df['target'] = np.log(df.target)\n",
    "\n",
    "# generate dummies\n",
    "cols = ['hour', 'year', 'week', 'weekday', 'month']\n",
    "df = generate_dummies(df, cols)\n",
    "\n",
    "# split target and feature\n",
    "X = df.loc[:, df.columns != 'target']\n",
    "y = df.loc[:, ['target']]\n",
    "\n",
    "# save predictions in dataframe\n",
    "preds = pd.DataFrame()\n",
    "\n",
    "# start forward test. pick date interval for train and test\n",
    "start = pd.Timestamp('2012-08-01')\n",
    "end = start + pd.Timedelta(7, unit='D')\n",
    "\n",
    "# select train and test data\n",
    "X_train = X[X.index < start]\n",
    "X_test = X[(X.index >= start) & (X.index <= end)]\n",
    "\n",
    "y_train = y[y.index < start]\n",
    "y_test = y[(y.index >= start) & (y.index <= end)]\n",
    "\n",
    "sc, y_train, y_test = scale_targets(y_train, y_test)"
   ]
  },
  {
   "cell_type": "code",
   "execution_count": null,
   "metadata": {},
   "outputs": [],
   "source": [
    "display(y_train.head())\n",
    "display(y_test.head())"
   ]
  },
  {
   "cell_type": "markdown",
   "metadata": {},
   "source": [
    "Great work. Now it's time to implement the machine learning model, train it and make first predictions."
   ]
  },
  {
   "cell_type": "markdown",
   "metadata": {},
   "source": [
    "#### make predictions and save them\n",
    "You will use a simple DecisionTree Regressor as your first base model. If you are not familiar with DecisionTrees it's totally fine. During the online courses you learned how to implement a Linear Regressor. The DecisionTree follows the same implementation principles. That's the beauty of sklearn. \n",
    "\n",
    "If you need more information, google \"sklearn decision tree regressor\" or check out this link from sklearn https://scikit-learn.org/stable/modules/generated/sklearn.tree.DecisionTreeRegressor.html where you can find the information on how to implement the model.\n",
    "\n",
    "If you want to learn more about how DecisionTrees work, check out this YouTube video https://www.youtube.com/watch?v=eKD5gxPPeY0 (The example in the video is a classification problem but it should give a small introduction on how decision trees work.)\n",
    "\n",
    "Now:\n",
    "1. implement the decision tree\n",
    "2. fit you model on the training dataset\n",
    "3. predict with your model using the test dataset\n",
    "4. store the predictions in your y test dataset as prediction_sc (your model outputs scaled values because we trained it on scaled values)\n",
    "5. rescale the predictions\n",
    "6. retransfrom the predicitons (don't forget you implemented the log transfrom method to fix the skewed data. To get back to real values you have to retransform the log values.)\n",
    "\n",
    "Everything below is what you have implemented so far. This is the whole project you built step by step.\n",
    "\n",
    "<h4><font color='red'>TODO! COMPLETE THIS SECTION!</font></h4>"
   ]
  },
  {
   "cell_type": "code",
   "execution_count": null,
   "metadata": {},
   "outputs": [],
   "source": [
    "from sklearn.tree import DecisionTreeRegressor\n",
    "\n",
    "# load and prepare data\n",
    "df = load_and_prepare_data()\n",
    "\n",
    "# drop columns\n",
    "cols = ['season', 'holiday', 'workingday', \n",
    "        'weather', 'temp', 'atemp', 'humidity', \n",
    "        'windspeed', 'casual', 'registered']\n",
    "df.drop(columns=cols, inplace=True)\n",
    "\n",
    "# feature engineering\n",
    "df = add_hours(df)\n",
    "df = add_isodate(df)\n",
    "df = add_month(df)\n",
    "\n",
    "# transfrom to fix skewed data\n",
    "df['target'] = np.log(df.target)\n",
    "\n",
    "# generate dummies\n",
    "cols = ['hour', 'year', 'week', 'weekday', 'month']\n",
    "df = generate_dummies(df, cols)\n",
    "\n",
    "# split target and feature\n",
    "X = df.loc[:, df.columns != 'target']\n",
    "y = df.loc[:, ['target']]\n",
    "\n",
    "# save predictions in dataframe\n",
    "preds = pd.DataFrame()\n",
    "\n",
    "# start forward test. pick date interval for train and test\n",
    "start = pd.Timestamp('2012-08-01')\n",
    "end = start + pd.Timedelta(7, unit='D')\n",
    "\n",
    "# select train and test data\n",
    "X_train = X[X.index < start]\n",
    "X_test = X[(X.index >= start) & (X.index <= end)]\n",
    "\n",
    "y_train = y[y.index < start]\n",
    "y_test = y[(y.index >= start) & (y.index <= end)]\n",
    "\n",
    "sc, y_train, y_test = scale_targets(y_train, y_test)\n",
    "\n",
    "# create a decision tree regressor model\n",
    "reg = ...\n",
    "# fit the model using the training dataset\n",
    "# don't forget to train the model on the scaled target (target_sc)\n",
    "reg...\n",
    "\n",
    "# make predictions using the test features\n",
    "pred = reg...\n",
    "\n",
    "# add pred to y_test\n",
    "y_test['prediction_sc'] = pred\n",
    "\n",
    "# rescale/inverse-transfrom the predictions using the StandardScaler sc\n",
    "y_test['prediction'] = sc...\n",
    "\n",
    "# retransform the target and the prediction values so that \n",
    "# we have our real values back (we used the log transformation earlier)\n",
    "y_test['target'] = np.exp(y_test.target)\n",
    "y_test['prediction'] = np.exp(y_test.prediction)\n",
    "\n",
    "y_test.head()"
   ]
  },
  {
   "cell_type": "markdown",
   "metadata": {},
   "source": [
    "Congratulations you did your first predictions. Great work. \n",
    "\n",
    "Now it is time to evaluate the predictions. How good is your model?\n",
    "\n",
    "From now on you will copy-paste your whole code from above and add or change a few things."
   ]
  },
  {
   "cell_type": "markdown",
   "metadata": {},
   "source": [
    "#### evaluate the prediction"
   ]
  },
  {
   "cell_type": "markdown",
   "metadata": {},
   "source": [
    "Let's define an error metric to evaluate the performance of our forecasting model. There are a lot of different error metrics we can use but a simple and straight forward metric is the MAPE metric which is implemented below."
   ]
  },
  {
   "cell_type": "code",
   "execution_count": null,
   "metadata": {},
   "outputs": [],
   "source": [
    "def calculate_mape(y, y_hat):\n",
    "    perc_err = (100 * (y - y_hat)) / y\n",
    "    return pd.np.mean(abs(perc_err))"
   ]
  },
  {
   "cell_type": "markdown",
   "metadata": {},
   "source": [
    "Copy your project code from above and paste it here above the calculate_mape function and run the cell.\n",
    "\n",
    "<h4><font color='red'>TODO! COMPLETE THIS SECTION!</font></h4>"
   ]
  },
  {
   "cell_type": "code",
   "execution_count": null,
   "metadata": {},
   "outputs": [],
   "source": [
    "...\n",
    "\n",
    "mape = calculate_mape(y_test.target, y_test.prediction)\n",
    "print(mape)"
   ]
  },
  {
   "cell_type": "markdown",
   "metadata": {},
   "source": [
    "The MAPE should be approx. `20.83` (The number could be slightly different for you). \n",
    "\n",
    "Now define a plot function which you can use to visualize the target and predictions, and the error (difference between target and predictions).\n",
    "\n",
    "<h4><font color='red'>TODO! COMPLETE THIS SECTION!</font></h4>"
   ]
  },
  {
   "cell_type": "code",
   "execution_count": null,
   "metadata": {},
   "outputs": [],
   "source": [
    "def plot_error(ts):\n",
    "    # create two plot.\n",
    "    # the first plot should show the target (blue) and the prediction (green)\n",
    "    # the second plot should show the error (predicton - target)\n",
    "    ..."
   ]
  },
  {
   "cell_type": "markdown",
   "metadata": {},
   "source": [
    "Copy your project code from above (including the MAPE calculation) and past it here above the plot_error function and run the cell.\n",
    "\n",
    "<h4><font color='red'>TODO! COMPLETE THIS SECTION!</font></h4>"
   ]
  },
  {
   "cell_type": "code",
   "execution_count": null,
   "metadata": {},
   "outputs": [],
   "source": [
    "...\n",
    "\n",
    "plot_error(y_test)"
   ]
  },
  {
   "attachments": {},
   "cell_type": "markdown",
   "metadata": {},
   "source": [
    "Your output should look something like this ![](https://drive.google.com/uc?export=view&id=1joUiYlKehuV9G18FLXZw8aDiPC0O65i1):\n",
    "\n",
    "Good work! You built a nice code structure to make predictions and to evaluate them. The target follows a certain pattern with two repeating peaks from day to day and your model was able to predict them accurately most of the time. Your model even predicted the two days which don't follow the two-peak-pattern.\n",
    "\n",
    "The next step would be to test multiple prediction windows, not only from 2012-08-01 until 2012-08-08. This method is called forward-testing (or back-testing) and it is the equivalent to a cross validation method you would normally use. Forward-testing is typically used to evaluate forecasting systems.\n",
    "\n",
    "The forward-testing method isn't available like cross validation in sklearn. Thus we would have to implement it ourselves. But the implementation is out of scope of this notebook. If you are still interested in how the forward-testing can be implemented, let me know or feel free to google it and built it yourself. \n",
    "\n",
    "Now that you have a nice code structure it is time for our first hypothesis and to improve your forecasting project."
   ]
  },
  {
   "cell_type": "markdown",
   "metadata": {},
   "source": [
    "### Data Science Hypothesis Cycle 1 - Random Forest\n",
    "\n",
    "After training and defining our baseline with the decision tree model and the datetime feature, it is time to improve the model. We will do this by defining a hypothesis and proving or disproving the hypothesis. We want to improve the forecasting performance iteration by iteration, which also means if you disprove a hypothesis and your forecasting system didn't improve, it is totally fine.\n",
    "\n",
    "In this first round we will try to improve the forecasting performance with a more complicated model (only the model itself is a bit more sophisticated. The implementation follows the same pattern with .fit and .predict so it is as easy as before). \n",
    "\n",
    "As base model you used the DecisionTree, now we want to improve the model performance by using multiple DecisionTrees. The model with multiple DecisionTrees is called RandomForest. \n",
    "\n",
    "____\n",
    "#### Hypothesis\n",
    "The forecasting performance will improve with a model upgrade from DecisionTree to RandomForest.\n",
    "___\n",
    "\n",
    "Copy your latest code structure with the evaluation step in it and replace the decision tree with a ramdom forest model.\n",
    "\n",
    "<h4><font color='red'>TODO! COMPLETE THIS SECTION!</font></h4>"
   ]
  },
  {
   "cell_type": "code",
   "execution_count": null,
   "metadata": {},
   "outputs": [],
   "source": [
    "from sklearn.ensemble import RandomForestRegressor\n",
    "\n",
    "..."
   ]
  },
  {
   "cell_type": "markdown",
   "metadata": {},
   "source": [
    "You improved the model performance from `20.07` to `19.24` (The number could be slightly different for you) and thus proved your first hypothesis. (Keep in mind the ideal way of testing a hypothesis would be by using the forward testing method).\n",
    "\n",
    "Let's formulate the  next hypothesis."
   ]
  },
  {
   "cell_type": "markdown",
   "metadata": {},
   "source": [
    "### Data Science Hypothesis Cycle 2 - Season feature \n",
    "\n",
    "Now let's add an additional feature, the season feature, to your model and see if the forecasting performance can be further improved.\n",
    "\n",
    "Before randomly adding the feature, let's make a quick visualization to see if the season feature could be a relevant feature."
   ]
  },
  {
   "cell_type": "code",
   "execution_count": null,
   "metadata": {},
   "outputs": [],
   "source": [
    "df = load_and_prepare_data()\n",
    "df = df[['season', 'target']]\n",
    "df['hour'] = df.index.hour\n",
    "df['day'] = df.index.day\n",
    "\n",
    "hourly = df[['hour', 'season', 'target']].groupby(\n",
    "    ['hour', 'season']).mean().reset_index()\n",
    "daily = df[['day', 'season', 'target']].groupby(\n",
    "    ['day', 'season']).mean().reset_index()\n",
    "\n",
    "plt.figure(figsize=(12, 6))\n",
    "sns.pointplot(\n",
    "    x=hourly['hour'], y=hourly['target'], \n",
    "    hue=hourly['season'], data=hourly)\n",
    "plt.title(\"Grouped target for of each season vs hour\")\n",
    "\n",
    "plt.figure(figsize=(12, 6))\n",
    "sns.pointplot(\n",
    "    x=daily['day'], y=daily['target'], \n",
    "    hue=daily['season'], data=daily)\n",
    "plt.title(\"Grouped target for of each season vs day in month\")"
   ]
  },
  {
   "cell_type": "markdown",
   "metadata": {},
   "source": [
    "This quick visualization shows us that the spring season (1) has a lower count of rented bikes. Thus the season feature could improve our model by separating the spring season better from the other seasons.\n",
    "\n",
    "___\n",
    "#### Hypothesis\n",
    "The season feature will improve the model performance because the spring season has a lower count of rented bikes.\n",
    "___\n",
    "\n",
    "Let's try it out. Implement a season feature into your forecasting system.\n",
    "\n",
    "Copy the code from where you implemented the RandomForestRegression model.\n",
    "\n",
    "Remove the season column from the drop columns list so that the season feature is available for your model. Also don't forget to generate dummy variables for the season feature. Add the season feature to the column list for which you generate dummy variables.\n",
    "\n",
    "Finally run the code again and check if you could improve the model performance even further.\n",
    "\n",
    "<h4><font color='red'>TODO! COMPLETE THIS SECTION!</font></h4>"
   ]
  },
  {
   "cell_type": "code",
   "execution_count": null,
   "metadata": {},
   "outputs": [],
   "source": [
    "..."
   ]
  },
  {
   "cell_type": "markdown",
   "metadata": {},
   "source": [
    "The season feature improved the model from `19.23` to `16.94` for this one week (The number could be slightly different for you). Hypothesis proved. \n",
    "\n",
    "Let's try out another feature in our next hypothesis."
   ]
  },
  {
   "cell_type": "markdown",
   "metadata": {},
   "source": [
    "### Data Science Hypothesis Cycle 3 - Temperature feature"
   ]
  },
  {
   "cell_type": "markdown",
   "metadata": {},
   "source": [
    "Now let's include a numerical feature into our model. Logically it makes sense that more bikes are rented if the weather is nicer. Therefore let's see if a temperature feature can improve the model.\n",
    "\n",
    "But again, before just throwing the feature at the model, we will check if the temperature correlates with our target value (count of rented bikes).\n",
    "\n",
    "Calculate the correlation between the temperature and the target.\n",
    "\n",
    "<h4><font color='red'>TODO! COMPLETE THIS SECTION!</font></h4>"
   ]
  },
  {
   "cell_type": "code",
   "execution_count": null,
   "metadata": {},
   "outputs": [],
   "source": [
    "df = load_and_prepare_data()\n",
    "# calculate the correlation (if you don't know how google \"pandas correlation\")\n",
    "corr = df[['temp', 'target']]...\n",
    "sns.heatmap(corr, cmap='Blues', annot=corr)"
   ]
  },
  {
   "cell_type": "markdown",
   "metadata": {},
   "source": [
    "The correlation plot shows a positive correlation between the target and temperature. Thus the temperature feature could improve our model.\n",
    "\n",
    "___\n",
    "#### Hypothesis\n",
    "People are renting more bikes at higher temperatures. Thus a temperature feature will improve our model.\n",
    "___\n",
    "\n",
    "Keep in mind that you have to scale the temperature data after you split the data into train and test sets.\n",
    "\n",
    "First, build a new function that scales the training data by fitting and transforming it and scale the test data afterwards by using the scaler which was fitted on the traing data set.\n",
    "\n",
    "<h4><font color='red'>TODO! COMPLETE THIS SECTION!</font></h4>"
   ]
  },
  {
   "cell_type": "code",
   "execution_count": null,
   "metadata": {},
   "outputs": [],
   "source": [
    "def scale_feature(train, test, col):\n",
    "    sc = ...\n",
    "    # fit and transfrom train[[col]]\n",
    "    train[col] = sc...\n",
    "    \n",
    "    # transfrom the test data\n",
    "    test[col] = sc... \n",
    "    return train, test"
   ]
  },
  {
   "cell_type": "markdown",
   "metadata": {},
   "source": [
    "Again copy and paste your last forecasting code from where you implemented the season feature.\n",
    "\n",
    "Add your new function (`scale_feautre`) after the target scaler function (`scale_targets`). Don't forget to remove the temp column from the list of dropped columns and input the temp column name into your `scale_feature` function.\n",
    "\n",
    "<h4><font color='red'>TODO! COMPLETE THIS SECTION!</font></h4>"
   ]
  },
  {
   "cell_type": "code",
   "execution_count": null,
   "metadata": {},
   "outputs": [],
   "source": [
    "..."
   ]
  },
  {
   "cell_type": "markdown",
   "metadata": {},
   "source": [
    "Great. the performance for this one week improved again from `16.94` to `15.22`. (The number could be slightly different for you)."
   ]
  },
  {
   "cell_type": "markdown",
   "metadata": {},
   "source": [
    "### Data Science Hypothesis Cycle 4 - Your ideas\n",
    "\n",
    "Now it's time for you to be creative. You can now try your own ideas. There are a lot of features we haven't tried yet like the holiday feature or the humidity feature. \n",
    "\n",
    "But you can also come up with self designed features. Earlier we used the season feature because we saw that the spring season has lower bike rental counts. We included the default season feature with all four seasons but you could engineer a more specific feature which contains the information if it is spring season or not (new column named \"spring\". 0 - not spring; 1 - spring). Maybe the model can make use of this more specific feature. \n",
    "\n",
    "If you want, you can also implement the forward-testing method to test if the ML model and all the features you added improve other weeks and time intervals too or if we just picked a lucky time intervall where all features improve the model.\n",
    "\n",
    "Keep in mind to either generate dummy variables if you are dealing with categorical features or to scale the data after splitting it into training and testings sets if you have numerical features.\n",
    "\n",
    "Have fun!"
   ]
  },
  {
   "cell_type": "code",
   "execution_count": null,
   "metadata": {},
   "outputs": [],
   "source": []
  },
  {
   "cell_type": "markdown",
   "metadata": {
    "colab_type": "text",
    "id": "x4t4S6yxcTPR"
   },
   "source": [
    "## Summary and Outlook\n",
    "You built a complete project from scratch. Not only did you explore and clean the data but you also engineered features and implemented a machine learning model which is trained, tested and evaluated.\n",
    "\n",
    "This notebook was supposed to be a short introduction on how you can combine all the things you have learnt so far to start your own data science (machine learning) projects.\n",
    "\n",
    "Keep in mind that the steps for other problems like classification problems or regression problems which are not forecasts can vary. But now you should know what questions to ask, like: What is the best way to scale the data? How should I split my data? What is the best approach to evaluate my model?\n",
    "\n",
    "If you found the hypothesis process useful, use it in your own projects. If something is missing or too much, please iterate on the idea and change it, so that it suits your work style.\n",
    "\n",
    "The next steps from here on can include:\n",
    "- buidling the forward-testing method to truely test how your model is performing.\n",
    "- creating external .py files where you store all your functions, which you implement in the notebook here. External .py files will make it easier for you to share your code, make your code more production ready and work more efficient in teams.\n",
    "\n",
    "Let me know if you have interest in bringing this notebook and code structure to production by implementing all the functions inside .py files and creating a useful project-folder-system or if you want to know how to implement the forward-testing method."
   ]
  },
  {
   "cell_type": "code",
   "execution_count": null,
   "metadata": {},
   "outputs": [],
   "source": []
  }
 ],
 "metadata": {
  "kernelspec": {
   "display_name": "Python 3",
   "language": "python",
   "name": "python3"
  },
  "language_info": {
   "codemirror_mode": {
    "name": "ipython",
    "version": 3
   },
   "file_extension": ".py",
   "mimetype": "text/x-python",
   "name": "python",
   "nbconvert_exporter": "python",
   "pygments_lexer": "ipython3",
   "version": "3.6.3"
  }
 },
 "nbformat": 4,
 "nbformat_minor": 2
}
